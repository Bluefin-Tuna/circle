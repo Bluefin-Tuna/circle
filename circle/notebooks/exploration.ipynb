{
 "cells": [
  {
   "cell_type": "markdown",
   "metadata": {},
   "source": [
    "### Imports"
   ]
  },
  {
   "cell_type": "code",
   "execution_count": 1,
   "metadata": {},
   "outputs": [],
   "source": [
    "from circle.utils import generate_examples, show_circle"
   ]
  },
  {
   "cell_type": "code",
   "execution_count": 5,
   "metadata": {},
   "outputs": [],
   "source": [
    "import numpy as np\n",
    "from tqdm import tqdm"
   ]
  },
  {
   "cell_type": "markdown",
   "metadata": {},
   "source": [
    "### Exploration"
   ]
  },
  {
   "cell_type": "code",
   "execution_count": 2,
   "metadata": {},
   "outputs": [],
   "source": [
    "CGEN = generate_examples"
   ]
  },
  {
   "cell_type": "code",
   "execution_count": null,
   "metadata": {},
   "outputs": [],
   "source": [
    "for nl in range(0, 11):\n",
    "    img, cp = next(CGEN(\n",
    "        noise_level=(nl/10),\n",
    "        min_radius=5,\n",
    "        max_radius=50\n",
    "    ))\n",
    "    show_circle(img)"
   ]
  },
  {
   "cell_type": "markdown",
   "metadata": {},
   "source": [
    "### Dataset"
   ]
  },
  {
   "cell_type": "code",
   "execution_count": null,
   "metadata": {},
   "outputs": [],
   "source": [
    "CGEN = generate_examples"
   ]
  },
  {
   "cell_type": "code",
   "execution_count": null,
   "metadata": {},
   "outputs": [],
   "source": [
    "y_train = []\n",
    "x_train = []\n",
    "# for nl in range(0, 10):\n",
    "for _ in tqdm(range(100000)):\n",
    "    img, cp = next(CGEN(\n",
    "        noise_level=(1 / 10),\n",
    "        img_size=100,\n",
    "        min_radius=5,\n",
    "        max_radius=50\n",
    "    ))\n",
    "    x_train.append(img)\n",
    "    y_train.append(cp)\n",
    "np.save(f\"../data/train/images-nl-{nl / 10}.npy\", np.stack(x_train))\n",
    "np.save(f\"../data/train/labels-nl-{nl / 10}.npy\", np.stack(y_train))"
   ]
  },
  {
   "cell_type": "code",
   "execution_count": null,
   "metadata": {},
   "outputs": [],
   "source": []
  }
 ],
 "metadata": {
  "kernelspec": {
   "display_name": "CircleRegression",
   "language": "python",
   "name": "python3"
  },
  "language_info": {
   "codemirror_mode": {
    "name": "ipython",
    "version": 3
   },
   "file_extension": ".py",
   "mimetype": "text/x-python",
   "name": "python",
   "nbconvert_exporter": "python",
   "pygments_lexer": "ipython3",
   "version": "3.10.13"
  },
  "orig_nbformat": 4
 },
 "nbformat": 4,
 "nbformat_minor": 2
}
